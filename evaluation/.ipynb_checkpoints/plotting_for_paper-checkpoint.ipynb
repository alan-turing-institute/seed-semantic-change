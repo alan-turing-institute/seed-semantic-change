{
 "cells": [
  {
   "cell_type": "code",
   "execution_count": 2,
   "metadata": {},
   "outputs": [],
   "source": [
    "# This is code to plot figures for the paper"
   ]
  },
  {
   "cell_type": "code",
   "execution_count": 10,
   "metadata": {},
   "outputs": [],
   "source": [
    "# Change here below with the PERIOD_RELATIVE data for the expert output\n",
    "\n",
    "valeurs = {0: [0.4768073037720028, 0.41012535306429065, 0.11306734316370656], 1: [0.4594132257555209, 0.43466498499657097, 0.10592178924790807], 2: [0.43599489530365637, 0.456454932377311, 0.10755017231903259], 3: [0.45592531494643146, 0.43288954784435196, 0.11118513720921668], 4: [0.4589870147522052, 0.3940150572463883, 0.14699792800140646], 5: [0.40233309315744814, 0.39453906839413644, 0.20312783844841545], 6: [0.40883771752879877, 0.39365860879042586, 0.19750367368077526], 7: [0.4424487849014197, 0.411597068851148, 0.14595414624743228], 8: [0.4135996245734382, 0.427823610770352, 0.15857676465620993]}\n",
    "\n",
    "\n",
    "\n",
    "\n",
    "\n",
    "\n",
    "\n",
    "\n",
    "\n",
    "\n"
   ]
  },
  {
   "cell_type": "code",
   "execution_count": 41,
   "metadata": {},
   "outputs": [
    {
     "name": "stdout",
     "output_type": "stream",
     "text": [
      "0 [0.15384615384615385, 0.11538461538461539, 0.7307692307692307, 0.0]\n",
      "lenght of vals 4\n",
      "1 [0, 0, 0, 0]\n",
      "lenght of vals 4\n",
      "2 [0.17391304347826086, 0.21739130434782608, 0.6086956521739131, 0.0]\n",
      "lenght of vals 4\n",
      "3 [0.2018348623853211, 0.2889908256880734, 0.28440366972477066, 0.22477064220183487]\n",
      "lenght of vals 4\n",
      "4 [0.38095238095238093, 0.3333333333333333, 0.14285714285714285, 0.14285714285714285]\n",
      "lenght of vals 4\n",
      "5 [0.015151515151515152, 0.5151515151515151, 0.07575757575757576, 0.3939393939393939]\n",
      "lenght of vals 4\n",
      "6 [0.31797235023041476, 0.35944700460829493, 0.11981566820276497, 0.20276497695852536]\n",
      "lenght of vals 4\n",
      "7 [0.12071535022354694, 0.2444113263785395, 0.19374068554396423, 0.44113263785394935]\n",
      "lenght of vals 4\n",
      "8 [0.19607843137254902, 0.27450980392156865, 0.18627450980392157, 0.3431372549019608]\n",
      "lenght of vals 4\n"
     ]
    },
    {
     "data": {
      "image/png": "[encoded data removed]",
      "text/plain": [
       "<Figure size 720x504 with 1 Axes>"
      ]
     },
     "metadata": {},
     "output_type": "display_data"
    }
   ],
   "source": [
    "import numpy as np\n",
    "import matplotlib.pyplot as plt\n",
    "from matplotlib import colors as mcolors\n",
    "import matplotlib\n",
    "matplotlib.rcParams['figure.figsize'] = [10,7]\n",
    "\n",
    "\n",
    "colors = dict(mcolors.BASE_COLORS, **mcolors.CSS4_COLORS)\n",
    "couleurs = list()\n",
    "\n",
    "for couleur in colors.keys():\n",
    "    couleurs.append(couleur)\n",
    "\n",
    "\n",
    "\n",
    "colours = ['teal','coral','steelblue','darksalmon','cadetblue','coral','limeturquoise','magenta','peru']\n",
    "#colours = ['b','g','r','c','m','y','k','w']\n",
    "colors = couleurs\n",
    "colors = colours\n",
    "\n",
    "for key,vals in valeurs.items():\n",
    "    print(key,vals)\n",
    "    print(\"lenght of vals\",len(vals))\n",
    "    \n",
    "    \n",
    "    \n",
    "    for i in range(0,len(vals)):        \n",
    "        if i == 0:\n",
    "            #print(\"TOTAL HITS FOR SENSE\",expert_senses[i],sense_date_amount[expert_senses[i],key])\n",
    "            previous = 0\n",
    "            #print(i)\n",
    "            #print(colours[i],\"height=\",vals[i])\n",
    "            #plt.bar(x=key, height=vals[i],bottom=previous,color=colours[i])\n",
    "            #plt.bar(x=key, height=vals[i],bottom=previous)\n",
    "            plt.bar(x=key, height=vals[i],bottom=previous,color=colors[i])\n",
    "            \n",
    "        else:         \n",
    "            #print(\"TOTAL HITS FOR SENSE\",expert_senses[i],sense_date_amount[expert_senses[i],key])\n",
    "            previous = vals[i-1] + previous\n",
    "            #print(\"i\",i,\"key=period\",key)\n",
    "            #print(colours[i],\"height=\",vals[i])\n",
    "            #print(vals[i])\n",
    "            #plt.bar(x=key, height=vals[i],bottom=previous,color=colours[i])\n",
    "            #plt.bar(x=key, height=vals[i],bottom=previous)\n",
    "            plt.bar(x=key, height=vals[i],bottom=previous,color=colors[i])\n",
    "            \n",
    "plt.xticks(range(len(valeurs)), valeurs.keys())\n",
    "plt.ylabel('Sense distribution')\n",
    "#plt.legend(a)\n",
    "plt.title('Model sense distribution for kosmos')\n",
    "\n",
    "\n",
    "#plt.figure(figsize=(20,10))\n",
    "image = plt.gcf()\n",
    "image.savefig(\"MODEL_paper.png\")\n",
    "plt.show()"
   ]
  },
  {
   "cell_type": "code",
   "execution_count": 8,
   "metadata": {},
   "outputs": [
    {
     "name": "stdout",
     "output_type": "stream",
     "text": [
      "README.md\r\n",
      "copora_genre_ids.ipynb\r\n",
      "\u001b[1m\u001b[36mevaluation_input\u001b[m\u001b[m\r\n",
      "\u001b[1m\u001b[36mevaluation_output\u001b[m\u001b[m\r\n",
      "evaluation_script.ipynb\r\n",
      "evaluation_script.py\r\n",
      "evaluation_script_genre-naive_with_NOT.py\r\n",
      "new_output_to_single_output.ipynb\r\n",
      "new_output_to_single_output.py\r\n",
      "plotting_for_paper.ipynb\r\n"
     ]
    }
   ],
   "source": [
    "!ls ."
   ]
  },
  {
   "cell_type": "code",
   "execution_count": null,
   "metadata": {},
   "outputs": [],
   "source": []
  },
  {
   "cell_type": "code",
   "execution_count": 21,
   "metadata": {},
   "outputs": [],
   "source": [
    "# Change here below with the PERIOD_RELATIVE data for the expert output\n",
    "\n",
    "valeurs = {0: [0.15384615384615385, 0.11538461538461539, 0.7307692307692307, 0.0], 1: [0, 0, 0, 0], 2: [0.17391304347826086, 0.21739130434782608, 0.6086956521739131, 0.0], 3: [0.2018348623853211, 0.2889908256880734, 0.28440366972477066, 0.22477064220183487], 4: [0.38095238095238093, 0.3333333333333333, 0.14285714285714285, 0.14285714285714285], 5: [0.015151515151515152, 0.5151515151515151, 0.07575757575757576, 0.3939393939393939], 6: [0.31797235023041476, 0.35944700460829493, 0.11981566820276497, 0.20276497695852536], 7: [0.12071535022354694, 0.2444113263785395, 0.19374068554396423, 0.44113263785394935], 8: [0.19607843137254902, 0.27450980392156865, 0.18627450980392157, 0.3431372549019608]}\n",
    "\n",
    "\n",
    "\n",
    "\n",
    "\n"
   ]
  },
  {
   "cell_type": "code",
   "execution_count": 25,
   "metadata": {},
   "outputs": [
    {
     "name": "stdout",
     "output_type": "stream",
     "text": [
      "0 [0.15384615384615385, 0.11538461538461539, 0.7307692307692307, 0.0]\n",
      "lenght of vals 4\n",
      "1 [0, 0, 0, 0]\n",
      "lenght of vals 4\n",
      "2 [0.17391304347826086, 0.21739130434782608, 0.6086956521739131, 0.0]\n",
      "lenght of vals 4\n",
      "3 [0.2018348623853211, 0.2889908256880734, 0.28440366972477066, 0.22477064220183487]\n",
      "lenght of vals 4\n",
      "4 [0.38095238095238093, 0.3333333333333333, 0.14285714285714285, 0.14285714285714285]\n",
      "lenght of vals 4\n",
      "5 [0.015151515151515152, 0.5151515151515151, 0.07575757575757576, 0.3939393939393939]\n",
      "lenght of vals 4\n",
      "6 [0.31797235023041476, 0.35944700460829493, 0.11981566820276497, 0.20276497695852536]\n",
      "lenght of vals 4\n",
      "7 [0.12071535022354694, 0.2444113263785395, 0.19374068554396423, 0.44113263785394935]\n",
      "lenght of vals 4\n",
      "8 [0.19607843137254902, 0.27450980392156865, 0.18627450980392157, 0.3431372549019608]\n",
      "lenght of vals 4\n"
     ]
    },
    {
     "data": {
      "image/png": "[encoded data removed]",
      "text/plain": [
       "<Figure size 720x504 with 1 Axes>"
      ]
     },
     "metadata": {},
     "output_type": "display_data"
    }
   ],
   "source": [
    "\n",
    "colors = dict(mcolors.BASE_COLORS, **mcolors.CSS4_COLORS)\n",
    "couleurs = list()\n",
    "\n",
    "for couleur in colors.keys():\n",
    "    couleurs.append(couleur)\n",
    "\n",
    "\n",
    "\n",
    "colours = ['teal','coral','steelblue','thistle','cadetblue','coral','limeturquoise','magenta','peru']\n",
    "#colours = ['b','g','r','c','m','y','k','w']\n",
    "colors = couleurs\n",
    "colors = colours\n",
    "\n",
    "for key,vals in valeurs.items():\n",
    "    print(key,vals)\n",
    "    print(\"lenght of vals\",len(vals))\n",
    "    \n",
    "    \n",
    "    \n",
    "    for i in range(0,len(vals)):        \n",
    "        if i == 0:\n",
    "            #print(\"TOTAL HITS FOR SENSE\",expert_senses[i],sense_date_amount[expert_senses[i],key])\n",
    "            previous = 0\n",
    "            #print(i)\n",
    "            #print(colours[i],\"height=\",vals[i])\n",
    "            #plt.bar(x=key, height=vals[i],bottom=previous,color=colours[i])\n",
    "            #plt.bar(x=key, height=vals[i],bottom=previous)\n",
    "            plt.bar(x=key, height=vals[i],bottom=previous,color=colors[i])\n",
    "            \n",
    "        else:         \n",
    "            #print(\"TOTAL HITS FOR SENSE\",expert_senses[i],sense_date_amount[expert_senses[i],key])\n",
    "            previous = vals[i-1] + previous\n",
    "            #print(\"i\",i,\"key=period\",key)\n",
    "            #print(colours[i],\"height=\",vals[i])\n",
    "            #print(vals[i])\n",
    "            #plt.bar(x=key, height=vals[i],bottom=previous,color=colours[i])\n",
    "            #plt.bar(x=key, height=vals[i],bottom=previous)\n",
    "            plt.bar(x=key, height=vals[i],bottom=previous,color=colors[i])\n",
    "            \n",
    "plt.xticks(range(len(valeurs)), valeurs.keys())\n",
    "plt.ylabel('Sense distribution')\n",
    "plt.title('Expert sense distribution for kosmos')\n",
    "\n",
    "\n",
    "#plt.figure(figsize=(20,10))\n",
    "image = plt.gcf()\n",
    "image.savefig(\"EXPERT_paper.png\")\n",
    "plt.show()"
   ]
  },
  {
   "cell_type": "code",
   "execution_count": null,
   "metadata": {},
   "outputs": [],
   "source": []
  }
 ],
 "metadata": {
  "kernelspec": {
   "display_name": "Python 3",
   "language": "python",
   "name": "python3"
  },
  "language_info": {
   "codemirror_mode": {
    "name": "ipython",
    "version": 3
   },
   "file_extension": ".py",
   "mimetype": "text/x-python",
   "name": "python",
   "nbconvert_exporter": "python",
   "pygments_lexer": "ipython3",
   "version": "3.6.5"
  }
 },
 "nbformat": 4,
 "nbformat_minor": 2
}

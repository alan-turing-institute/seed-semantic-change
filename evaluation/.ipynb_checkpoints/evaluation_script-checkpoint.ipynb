{
 "cells": [
  {
   "cell_type": "markdown",
   "metadata": {},
   "source": [
    "# This is a work-in-progress notebook\n",
    "\n",
    "We wish to know this:\n",
    "\n",
    "1. How well does the model identify the correct number of senses for the target word?\n",
    "2. **How well does the model identify the correct senses for the target word?**\n",
    "3. **How well does the model assign the right words to a given sense of the target word?**\n",
    "4. How well does the model assign the senses to the time intervals for the target word?\n",
    "\n",
    "The script will evaluate **Q2** and **Q3**. Q4 will follow."
   ]
  },
  {
   "cell_type": "code",
   "execution_count": 193,
   "metadata": {},
   "outputs": [],
   "source": [
    "# Basic variables and imports:\n",
    "\n",
    "import codecs, csv, os, time, re, io\n",
    "from os import listdir\n",
    "from os.path import isfile, join\n",
    "\n",
    "# directories\n",
    "dir_in = os.path.abspath(os.path.join(os.path.dirname(os.getcwd()), \"evaluation\", \"evaluation_input\"))\n",
    "dir_out = os.path.abspath(os.path.join(os.path.dirname(os.getcwd()), \"evaluation\", \"evaluation_output\"))\n",
    "\n",
    "s_senses = io.open(dir_in+\"/senses_69419.txt\",\"r\")\n",
    "k_senses = io.open(dir_in+\"/mus.dat\",\"r\")\n",
    "\n",
    "file_senses = s_senses.readlines()[1:]\n",
    "output_senses = k_senses.read()"
   ]
  },
  {
   "cell_type": "code",
   "execution_count": null,
   "metadata": {},
   "outputs": [],
   "source": []
  },
  {
   "cell_type": "code",
   "execution_count": null,
   "metadata": {},
   "outputs": [],
   "source": []
  },
  {
   "cell_type": "markdown",
   "metadata": {},
   "source": [
    "## TODO\n",
    "\n",
    "- ~~create the notebook~~\n",
    "- ~~organise the notebook~~\n",
    "- ~~write \"general idea\" pseudocode for the evaluation~~\n",
    "- ~~get input files~~\n",
    "- figure out data structures to store the variables\n",
    "- write actual code"
   ]
  },
  {
   "cell_type": "markdown",
   "metadata": {},
   "source": [
    "## Q2: How well does the model identify the correct senses for the target word?"
   ]
  },
  {
   "cell_type": "markdown",
   "metadata": {},
   "source": [
    "### Pseudocode "
   ]
  },
  {
   "cell_type": "code",
   "execution_count": null,
   "metadata": {},
   "outputs": [],
   "source": [
    "# For each target word, we have a list of senses  s (given by the expert)\n",
    "# For each target word, we have a list of senses k (given by the model)\n",
    "# This Q consists in matching s and k, and doing so in a confident way --> confidence score\n",
    "\n",
    "for each k:\n",
    "    for each s:\n",
    "        create conf(k,s)\n",
    "\n",
    "# What is conf(k,s)?\n",
    "        conf(k,s) = (p1*match(w1,s)+p2*match(w1,s)+px(wx,s))/10 WHERE\n",
    "    \n",
    "            px = probability of word wx \n",
    "                \n",
    "                and\n",
    "            \n",
    "            match(wx,s) =   1/number_of_senses_assigned_to_wx if s_is_one_of_them \n",
    "            \n",
    "                    or \n",
    "                            0 if w_is_not_associated_to_s\n",
    "                \n",
    "# Once we have gone through all s for one k, we have to choose the best k for s. How? (TBD, cfr Valerio and Barbara)\n",
    "\n",
    "# Once all ks have been assigned to all ss (or NA), we can calculate a general confidence score for the model.\n",
    "# One easy way to do that: \n",
    "\n",
    "conf_score_model = number_of_non_NA/k"
   ]
  },
  {
   "cell_type": "markdown",
   "metadata": {},
   "source": [
    "### Real code\n",
    "\n",
    "Steps:\n",
    "\n",
    "- extract all senses from the file\n",
    "- use those senses as keys for a dictionary, `dict_of_words`\n",
    "- fill the dictionary: for each key, we store a list of words pertaining to that sense\n",
    "- transform the lists as sets so as to remove duplicates within the same sense\n",
    "- create a dictionary with a word as a key and its weight as a value, depending on how many senses it appears\n",
    "- parse the model output and get the probability weights for each word\n",
    "\n",
    "Todo:\n",
    "\n",
    "- do not take into account the first line\n",
    "- take care of empty lines\n"
   ]
  },
  {
   "cell_type": "code",
   "execution_count": 194,
   "metadata": {},
   "outputs": [
    {
     "name": "stdout",
     "output_type": "stream",
     "text": [
      "Number of senses: 4\n",
      "mus-2 {'20469', '85672', '2586', '49444', '103648', 'nlsj61217', '5591', '26818', 'nlsj114757', '15198', '53538', '66342', '89321', '18561', '98955', '75652', '30564', '93388', '105691', 'nlsj112110', '21920', '15763', 'nlsj86871', '100673', '93840', '86213', '101790', '6184', '115638', '4763', 'nlsj70384', '66494', '69419', '45526', 'nlsj3887', 'nlsj12526', '17228', '74610', '110127', '33822', '37343', '104624', '92051', '16986', '114381', '106023', '94967', 'nlsj29538', '92475', '56223', '29390', 'nlsj8425', '68144', '113881', '46452', '110060', '45980', '68706', '1904', 'nlsj100389', '94164', '53254', '49176', '22389', '74378', '83212', '104637', '62337', 'nlsj99416', '20674', '82623', '102474', '30569', '54990', '20508', '23861', '91198', '4670', '112512', '45996', '113163', '59121', '65544', '68185', '29134', '67364', 'nlsj33192', 'nlsj10202', '101982', '83209', '60425', '4698', '49439', '64559', '69751', '95095', '67360', '60113', '53222', '102930', '58262', '93624', 'nlsj114797', '74126', '62535', 'nlsj6085', '92553', 'nlsj10103', '74165', '49182', '45182', '95540', '75653', '93880', '51737', '104416', '67422', 'nlsj3191', '103038', '45757', '91541', '70768', '58271', '64642', '80188', '60316', '83458', '16884', '76335', 'nlsj5634', '19236', 'nlsj4249', '68539', '19623', '65552', '67762', 'nlsj4805', '42678', '22166', '20270', '73672', '58527', '18762', '65934', '19789', '112733', '62258', '33457', '22316', '63032', '103667', '106267', '57356', 'nlsj68042', '21205', 'nlsj3264', '38744', '80525', '20413', 'nlsj2729', '105557', '64483', '53286', '90303', '61185', '64983', '60317', '58133', '112724', '75992', '32263', '47745', '49875', '76910', '45525', '106206', 'nlsj75531', '35633', '65983', '56954', 'nlsj7772', 'nlsj61519', '97266', '62274', '75539', '26328', '103773', '4562', '7362', '98114', '103637', '61622', '16440', '110639', '93842', '101257', '74675', '65565', '90350', '19641', 'nlsj32819', '82758', '94291', '114347', '57262', '214', '47735', '84089', 'nlsj36416', '21168', '58429', '41918', '114437', '69220', '59626', '116273', '60878', '52571', '21490', '74225', '112811', '95144', 'nlsj3072', '34243', 'nlsj76740'}\n",
      "\n",
      "\n",
      "\n",
      "w {'104429', '65747', '30790', '42214', '8665', '4548', '109757', '70958', '64985', '114753', '24340', '84410', '12210', '31537', '1083', '61708', '49589', '65552', '46178', '61073', '56607', '23903', '96193', '28569', 'nlsj56179', '21920', '31236', '32657', '11058', '92927', '26886', '41357', '69419', '38714', '31333', '4958', '44552', '1379', '58444', '1989', 'nlsj4603', '34522', '104374', '85306', '27847', '114558', '28592', '46804', 'nlsj5105', '54356', '90410', '260', '86112', '116416', '78297', '72287', '19282', '26447', '62204', '96106', '86305', '63772', 'nlsj32160', '12252', '112350', '115213', '2219', '24436', '104421', '3398', '39186', '1377', '103701', '12625', '35581', '43260', '71492', 'nlsj7765', '98712', '23658', '98747', '114624', '45996', '31562', '79223', '71308', '75552', '98541', '23799', '61016', '104655', '16400', '53826', '33631', '293', '71312', '67132', '113060', '65295', '46195', 'nlsj5856', 'nlsj7011', '1984', '16132', '11072', '1093', '63845', '71976', '35541', '76801', '5390', '73064', '48549', '35642'}\n",
      "\n",
      "\n",
      "\n",
      "mus-1 {'39195', '72610', '108537', '17197', '54113', '5607', '24856', '84534', '10933', '61856', '41502', '55532', '29883', '21783', '27629', '74631', '85807', '74127', '94098', '61885', '93388', 'nlsj7856', '15763', '51647', '35708', '24226', 'nlsj43224', '21589', '66494', '19788', '43977', '112070', '33671', '5131', '20621', '13039', '91800', '24444', '31964', '15378', '106064', '60308', '20179', '104690', 'nlsj60710', '107905', '83783', '47447', '80239', '6174', '110606', '45980', '92662', '80664', '85420', '49955', '4493', '37095', '103701', '40001', '70708', '48095', '4670', '45996', '105176', '98312', '97386', '18334', '63314', '112833', 'nlsj68688', '24292', '463', '37711', '84434', '91944', '54946', '29974', '37244', '114688', '42830', 'nlsj4012', '28002', '55815', 'nlsj105619', '2749', '38743', '89366', '5009', '14362', '8505', 'nlsj80462', '80327', '95368', '75306', 'nlsj96345', '8909', '73064', '24801', '2583', 'nlsj8671', '33494', '7159', '67868', '4378', '26943', '112169', '94316', '15121', '82756', '49589', '109730', '47964', 'nlsj8979', '48770', '36790', 'nlsj11066', '23678', '84422', '2224', '5112', '10056', '18331', '75948', '83253', '116244', '22316', '64956', '19972', '15047', '41032', '111416', '21830', '103871', 'nlsj106628', '85953', '86352', '65097', '50451', '46074', '15858', '9757', '7561', '16609', '8586', '76910', '70482', '54971', '116293', '56991', '7133', '33647', '101445', '6325', '33241', 'nlsj47984', '114731', '52460', '107959', '45917', '33074', '95221', '97147', '19641', '110456', '102381', '28360', '83113', '71314', '113060', '104538', '77699', '75316', '94474', '12973', '100774', '74735', '1984', '62816', '31996', '52571', '48291', '95819', '83760', '37616', '103975', '7498', '2834', '49227', '94097', '50616', '61176', '71118', 'nlsj4784', '95074', '113379', '81343', '83774', 'nlsj5738', '61177', '98234', '52332', '69714', '1083', '41536', 'nlsj75598', '58478', '103152', '38732', 'nlsj17074', '28355', '22997', '84475', '83251', '115810', '69419', '47513', '61855', '76184', '104872', '1692', '4274', '29828', '4587', '114842', '42581', '53161', 'nlsj11198', '3327', '2340', '37726', '88498', '3289', '108780', '13002', '102669', '96979', 'nlsj4579', '112467', '93796', '70477', '16052', '116416', '48704', '63713', '88464', '59501', '66639', '61265', '82954', '43089', '95523', '104421', '27005', '16051', '45285', '20674', '64316', '92077', '66294', '114816', '110598', '75954', '82665', '49437', '12409', '63212', '68791', '80107', '30911', '51256', '59588', '32686', '42842', '98173', '67974', '69863', '91085', '26048', '38966', '21802', '11583', '66173', '79103', '69036', '36390', '41481', '85417', '72627', '93536', '88716', '112720', '103972', '37274', '37851', '21335', '8665', '19452', '62093', '99638', '46474', '51259', '28036', '55499', '100906', '64914', '77698', '33160', '74819', '12948', '45656', '110027', '49933', '101853', '50073', 'nlsj8970', '113711', '46966', '11229', '15380', '1564', '102869', '16430', '102000', '30700', '69469', '91055', '39313', '83310', '17962', '25228', '74571', '62205', '68174', '68641', '34366', 'nlsj9526', '63143', '22739', '23690', '55898', '83665', '116470', '79947', '4335', '17381', 'nlsj59923', '112816', '45513', '96089', 'nlsj100912', '12176', '3128', '21901', '83928', 'nlsj801', '48867', '64757', '7529', '41705', '76564', '113556', '51241', '69052', '86307', '98723', 'nlsj32167', '51819', '86219', '21812', '84263', '71308', '93022', '26233', '56810', 'nlsj86496', '60225', '11058', '678', '73221', '6449', '38547', '6684', '90329', '19268', '104655', '13608', '7177', '19891', '93812', '31565', '2731', 'nlsj4113', '67104', '18128', '51727', '53695', '65628', '48341', '92406', '24523', '113741', '15618', '66777', '31709', '56003', '67619', '19346', '65757', '42887', '27764', '84494', '11970', '19711', '104289', '85672', '103993', '103942', '29624', '4068', '54812', '43305', '20195', '108536', '34476', '14181', '103012', '18788', '23468', '103922', '114615', '102989', '80042', '3986', '32657', '31948', '22100', '104225', '26136', '35092', '59005', '26032', '6384', '39125', '78716', '28592', 'nlsj6617', '7944', '55139', '13098', '46804', '12349', '107167', 'nlsj7783', '104639', '62383', '40323', '43124', '72287', '76157', '51369', '70550', '73972', '34848', '65975', '25018', '19536', '80357', '44888', 'nlsj32160', 'nlsj105676', '51376', '11206', '95853', '24261', '98241', '94713', '35710', '23794', '1377', '102474', '106502', '98031', '61791', '18937', '54592', '56874', '91351', 'nlsj80958', '83434', '71559', '5521', 'nlsj33192', '43206', '45671', '7182', '14050', 'nlsj48763', '72321', '84248', '23242', '95432', '4845', 'nlsj40132', '112934', '65697', '35267', 'nlsj1499', '16171', '95522', '4927', '80555', '26499', '33956', '17730', '22209', '106114', '104355', '70768', '61925', 'nlsj77405', '64448', '76431', '28566', '75352', '109687', '49506', '105344', '110484', '77928', '46123', '65552', '67762', '72268', '102847', '27415', '76703', '50093', '7712', '53942', '105550', '59124', '22036', '26197', '28569', '76765', 'nlsj114103', '31236', '116050', '25007', '84234', '74523', '41357', '53442', '12641', '27209', '51373', '53956', '75263', '72202', '112351', '76530', '34603', '72275', 'nlsj12527', '67815', '59708', 'nlsj61205', 'nlsj2610', 'nlsj10130', '70105', '83266', '260', '47876', '51815', 'nlsj2729', '83869', '72716', '18706', '15162', '80761', '73277', 'nlsj68228', '4536', '23283', '114548', '41082', '112472', '22882', '13317', '62303', '39847', '62528', '105816', '23658', '84094', 'nlsj52509', '103637', '2767', '65089', '72273', '75552', '52035', '2873', '83756', '80011', '48498', '25402', '93449', '42827', '82758', '39190', '20945', '57262', '94483', '51849', '66746', '46195', '50824', '7832', '73128', 'nlsj4320', '11305', '11072', '110114', 'nlsj106503', '49886', '60402', '63814', '111207', '25870', '95258', '72357', '36571', '7062', '51358', 'nlsj98815', '90504', '7612', '114972', '66262', '114587', 'nlsj114757', '3464', '89807', '51661', '71065', '59276', '61291', '19546', '37776', 'nlsj57918', '48670', '5132', '21920', '2845', '42686', '403', '112347', '34071', '96565', '64586', '40161', '85306', '7779', '24003', '13579', '91516', '31556', '12035', '55997', '112943', '22502', '41633', '100524', '40156', '19282', '15893', '111895', '104311', '3237', '86305', '113251', '43060', '2219', '112559', '78746', '83718', '3398', '17007', '55137', '115193', '15571', '47917', '2671', '110655', '106566', '74602', '79223', '114706', '71673', '71262', '3800', '73707', '75910', '34855', 'nlsj96033', '63352', '110302', '52095', '74126', 'nlsj1611', '40545', '69252', '86429', '3241', '55149', '26114', '57057', 'nlsj78558', '50679', '112769', '56406', '46176', '101716', '38488', '68970', '4906', '37488', '2764', '941', '57321', '63827', '109403', '61040', '34372', '99622', '100965', '49331', '12485', '4548', '70958', '76335', 'nlsj10580', '80557', '55498', '114847', '33770', '35570', '29962', '89309', '13427', '79697', '36165', 'nlsj9035', '93417', '72928', '7724', '46216', '42659', '31161', '61056', 'nlsj5904', 'nlsj71743', '110284', '11197', '106974', '108882', '84725', '51300', '19123', '4778', '26684', '18166', '95654', '26447', '62204', 'nlsj28819', '47665', '92010', '113823', '436', '47745', '2061', '49875', 'nlsj69856', '54399', '41538', '97285', '65983', '47617', '103221', 'nlsj10876', '21431', '92171', '31562', '79261', 'nlsj7583', '105070', '20728', '103957', '84150', '110639', '65565', '50644', '16400', '42890', '82959', '115845', '110089', '23628', '46646', '31491', 'nlsj5118', '47735', '26207', '116058', '104860', '50252', 'nlsj5437', '21487', '116059', '41918', 'nlsj40053', '92162', '18271', '80043', '41619', '67250', '63845', '100693', '67485', '84552', '113560', '48479', '79595'}\n",
      "\n",
      "\n",
      "\n",
      "mus-4 {'72610', '42214', '60703', '101851', '90334', '37720', '111764', '55313', '24946', '10933', '84534', '65703', '3325', '96698', '29883', '36216', '97606', '66342', '48504', '106676', '93388', '56189', '50521', '39180', '32657', '11058', '114615', '66494', '39238', '55497', '20885', '83605', '112367', '20621', '66389', '13039', '104624', '39543', '83468', '91634', '104690', '104639', '115887', '51369', '102795', '6174', '100495', '35417', '102676', '100379', 'nlsj177', '70556', '4493', 'nlsj99416', '82451', '60646', '106502', '1199', '13715', '35244', '15786', '45996', '37075', '116218', '97605', '65966', '18334', '100964', '63873', 'nlsj86473', '34982', '45153', '41570', '4845', '39078', '15011', '26226', '20830', '94365', '64703', '4474', '14266', '55383', '83174', '36180', '22209', '26046', '8909', '53015', '97252', '104355', '55391', '26034', '97963', '114387', '55981', '33486', '39016', '31609', '67352', '13813', 'nlsj40134', 'nlsj1147', '65552', '84034', '67762', '109918', '27092', '73672', '42071', '75989', '76765', '28569', '36289', '74752', '3630', '84234', '43975', '66750', '83834', '84421', '96999', '35166', '61245', '72202', '116216', '26039', '19972', '76516', '111722', 'nlsj61122', '85953', '70364', '83869', '26002', '85665', '24132', '59516', '89405', '83650', '114339', '57460', '60840', '103085', '33238', '51785', '56991', 'nlsj112819', '90166', '62528', '87413', '66761', '75552', '93379', '30317', '37262', '112794', '44660', '96560', '6616', '58429', '58142', '93435', '33426', '74735', '110114', '86108', '52571', '48291', '71984', '2392', '115748', '61176', '95961', '13315', '58319', '101714', '19528', '51358', '114753', '43616', '112703', '98234', '57474', '90504', '4470', '71065', '99647', '65191', '74463', '18790', '24289', '61553', '109733', '6898', 'nlsj35116', '69419', '76513', '61946', '33969', '70521', '105458', '34522', 'nlsj82141', '20836', '85306', '37726', '2898', '108780', '22660', 'nlsj82490', '93332', '116416', '67507', '48704', '48436', '31607', '15893', '49629', '94677', '38472', '98417', '67555', '71373', '82800', '112559', '109729', '16051', '74378', '114083', '64316', '22425', '13376', '95970', '108652', '96503', '621', '96981', '97241', '7793', '105548', '36938', '57457', '114553', '115212', '41271', 'nlsj79694', '16804', '22210', '79069', '115102', '58972', '57466', '83825', '3364', '71585', '50908', '11583', '85099', '13852', '114653', '6339', '106263', '112720', '61128', '77640', '63928', '113477', '50236', '91583', '93341', '24340', '112307', '67009', '33770', '35570', '115374', '98869', '15609', '61231', '28588', '102000', '10223', '18062', '24184', 'nlsj71743', '14269', '67526', '68641', '116408', '75595', '34366', '76028', '90347', '28349', '83665', '88855', '75005', '47442', '45245', '85876', '62204', '63772', '82190', '70558', '106206', '19503', '51241', '63550', '83732', '69532', '31562', '13985', '66755', '37405', '110639', '98584', '21651', '93812', 'nlsj42558', '46646', '37961', '71404', 'nlsj33345', '47735', '70495', '92926', '7608', '106222', '39299', '96853', '13942', '74621', '113560', '101034', '68996', '66295'}\n",
      "\n",
      "\n",
      "\n"
     ]
    }
   ],
   "source": [
    "expert_senses = list() # list where we store all sense ids provided by expert\n",
    "for s in file_senses: # 60 for testing purposes\n",
    "    s = s.split(\"\\t\")\n",
    "    sense = s[11] # The sense ID is after the 10th tab\n",
    "    expert_senses.append(sense)\n",
    "    \n",
    "#print(len(expert_senses),expert_senses,len(set(expert_senses)))\n",
    "\n",
    "expert_senses = list(set(expert_senses)) # we only keep the unique senses\n",
    "number_of_s = len(expert_senses)  # we create a variable that stores the number of unique senses\n",
    "print(\"Number of senses:\",number_of_s)\n",
    "\n",
    "# This dictionary has a sense as a key, and a list of words as a value. \n",
    "dict_of_words = dict()\n",
    "# This list stores all words\n",
    "list_of_all_words = list()\n",
    "# This dictionary stores all words as keys and their weight as value\n",
    "word_weight = dict()\n",
    "\n",
    "for i in range(0,number_of_s): # for each sense, we create a dictionary entry which has a list as value\n",
    "    dict_of_words[expert_senses[i]] = list()\n",
    "\n",
    "    for s in file_senses: # we go back in the file\n",
    "        s = s.split(\"\\t\") # splitting on tabs\n",
    "        \n",
    "        sentence_of_ids = s[8] # 8 is for IDs, 9 is for words\n",
    "        list_of_ids = sentence_of_ids.split(\" \")  # splitting on spaces\n",
    "        for word_id in list_of_ids:\n",
    "            if s[11] == expert_senses[i]:      # we store all words for one sense \n",
    "                dict_of_words[expert_senses[i]].append(word_id)\n",
    "            list_of_all_words.append(word_id) # we store all words, we'll iterate over that for scores\n",
    "        \n",
    "\n",
    "    # Here, we remove duplicates\n",
    "    #dict_of_words[expert_senses[i]].append(\"79223\") #testing\n",
    "    dict_of_words[expert_senses[i]] = set(dict_of_words[expert_senses[i]]) \n",
    "      \n",
    "    print(expert_senses[i],set(dict_of_words[expert_senses[i]]))\n",
    "    print(\"\\n\\n\")\n"
   ]
  },
  {
   "cell_type": "code",
   "execution_count": 195,
   "metadata": {},
   "outputs": [],
   "source": [
    "# For every word in the list of words that we have\n",
    "# we count the number of senses it appears in\n",
    "# we use that number to divide its importance: 1 sense = 1 importance; 2 senses = 0.5 importance\n",
    "# this can be finetuned\n",
    "\n",
    "for word in list_of_all_words:\n",
    "    x = 0\n",
    "    for i in range(0,number_of_s):\n",
    "        if word in dict_of_words[expert_senses[i]]:\n",
    "            x += 1 \n",
    "        if x != 0:\n",
    "            word_weight[word] = 1/x\n",
    "        \n",
    "    \n",
    "    #print(word,word_weight[word])  "
   ]
  },
  {
   "cell_type": "markdown",
   "metadata": {},
   "source": [
    "#### parsing output.dat\n",
    "- split on \"===============  per time  ===============\" and keep first part\n",
    "- transform that into a list, then\n",
    "- get lines that start with \"p(w|s)\"\n",
    "- count those, k = that number\n",
    "- split the line on \":\", keep the second part\n",
    "- split the rest on \";\", it's [ID] = prob_from_this_ID"
   ]
  },
  {
   "cell_type": "code",
   "execution_count": 196,
   "metadata": {},
   "outputs": [
    {
     "name": "stdout",
     "output_type": "stream",
     "text": [
      "0 ['  28355 (0.088) ', ' 69419 (0.069) ', ' 57460 (0.056) ', ' 114587 (0.042) ', ' 42071 (0.041) ', ' 35267 (0.035) ', ' 51647 (0.035) ', ' 64448 (0.023) ', ' 45980 (0.018) ', ' 53826 (0.017) ', ' ']\n",
      "word id 28355 ; probability 0.088\n",
      "word id 69419 ; probability 0.069\n",
      "word id 57460 ; probability 0.056\n",
      "word id 114587 ; probability 0.042\n",
      "word id 42071 ; probability 0.041\n",
      "word id 35267 ; probability 0.035\n",
      "word id 51647 ; probability 0.035\n",
      "word id 64448 ; probability 0.023\n",
      "word id 45980 ; probability 0.018\n",
      "word id 53826 ; probability 0.017\n",
      "1 ['  79223 (0.063) ', ' 92927 (0.057) ', ' 46574 (0.038) ', ' 67660 (0.038) ', ' 103085 (0.036) ', ' 86112 (0.030) ', ' 101982 (0.029) ', ' 75808 (0.026) ', ' 68539 (0.024) ', ' 54607 (0.024) ', ' ']\n",
      "word id 79223 ; probability 0.063\n",
      "word id 92927 ; probability 0.057\n",
      "word id 46574 ; probability 0.038\n",
      "word id 67660 ; probability 0.038\n",
      "word id 103085 ; probability 0.036\n",
      "word id 86112 ; probability 0.030\n",
      "word id 101982 ; probability 0.029\n",
      "word id 75808 ; probability 0.026\n",
      "word id 68539 ; probability 0.024\n",
      "word id 54607 ; probability 0.024\n",
      "2 ['  62258 (0.080) ', ' 64586 (0.052) ', ' 58271 (0.048) ', ' nlsj86871 (0.041) ', ' 101851 (0.039) ', ' nlsj183 (0.037) ', ' 75653 (0.031) ', ' nlsj59923 (0.030) ', ' 70105 (0.026) ', ' 82758 (0.024) ', ' ']\n",
      "word id 62258 ; probability 0.080\n",
      "word id 64586 ; probability 0.052\n",
      "word id 58271 ; probability 0.048\n",
      "word id nlsj86871 ; probability 0.041\n",
      "word id 101851 ; probability 0.039\n",
      "word id nlsj183 ; probability 0.037\n",
      "word id 75653 ; probability 0.031\n",
      "word id nlsj59923 ; probability 0.030\n",
      "word id 70105 ; probability 0.026\n",
      "word id 82758 ; probability 0.024\n",
      "3 ['  102000 (0.035) ', ' 70495 (0.035) ', ' 7182 (0.029) ', ' 70958 (0.024) ', ' 49589 (0.021) ', ' 83174 (0.021) ', ' 106676 (0.019) ', ' 22209 (0.018) ', ' 93388 (0.017) ', ' 16132 (0.016) ', ' ']\n",
      "word id 102000 ; probability 0.035\n",
      "word id 70495 ; probability 0.035\n",
      "word id 7182 ; probability 0.029\n",
      "word id 70958 ; probability 0.024\n",
      "word id 49589 ; probability 0.021\n",
      "word id 83174 ; probability 0.021\n",
      "word id 106676 ; probability 0.019\n",
      "word id 22209 ; probability 0.018\n",
      "word id 93388 ; probability 0.017\n",
      "word id 16132 ; probability 0.016\n",
      "4 ['  nlsj5634 (0.039) ', ' 61925 (0.037) ', ' 12620 (0.030) ', ' 69419 (0.027) ', ' 104421 (0.027) ', ' 91085 (0.024) ', ' 71308 (0.022) ', ' 115748 (0.021) ', ' 19641 (0.020) ', ' 5390 (0.019) ', ' ']\n",
      "word id nlsj5634 ; probability 0.039\n",
      "word id 61925 ; probability 0.037\n",
      "word id 12620 ; probability 0.030\n",
      "word id 69419 ; probability 0.027\n",
      "word id 104421 ; probability 0.027\n",
      "word id 91085 ; probability 0.024\n",
      "word id 71308 ; probability 0.022\n",
      "word id 115748 ; probability 0.021\n",
      "word id 19641 ; probability 0.020\n",
      "word id 5390 ; probability 0.019\n"
     ]
    }
   ],
   "source": [
    "lines_output = output_senses.split(\"===============  per time  ===============\")[0].split(\"\\n\")\n",
    "\n",
    "number_of_the_k = 0\n",
    "\n",
    "k_words_with_prob = dict()\n",
    "\n",
    "for line in lines_output:\n",
    "    if line[:6] == \"p(w|s)\":\n",
    "        line = line.split(\":\")[1]\n",
    "        line = line.split(\";\")\n",
    "        print(number_of_the_k,line)\n",
    "        dico_word_prob = dict()\n",
    "        k_words_with_prob[number_of_the_k] = list()\n",
    "        \n",
    "        line = line[:-1] # last item of the list is empty\n",
    "        for word_prob in line:\n",
    "        \n",
    "            word_prob = word_prob.split(\",\")\n",
    "            for word in word_prob:\n",
    "                matchObj = re.findall(\"([\\d.\\w]*)\",word)\n",
    "                if matchObj:\n",
    "                    \n",
    "                    matchObj = list(filter(None,matchObj))\n",
    "                    \n",
    "            \n",
    "            print(\"word id\",matchObj[0],\"; probability\",matchObj[1])\n",
    "            dico_word_prob[matchObj[0]] = matchObj[1]\n",
    "        k_words_with_prob[number_of_the_k] = dico_word_prob\n",
    "\n",
    "        number_of_the_k += 1\n",
    "        \n",
    "\n"
   ]
  },
  {
   "cell_type": "markdown",
   "metadata": {},
   "source": [
    "#### k_words_with_prob\n",
    "This dictionary has the sense number 'k' as keys and the a dictionary of [word] = probability as values.\n",
    "Example below."
   ]
  },
  {
   "cell_type": "code",
   "execution_count": 197,
   "metadata": {},
   "outputs": [
    {
     "name": "stdout",
     "output_type": "stream",
     "text": [
      "Probability for word ID 5390 in sense k = 4: 0.019\n"
     ]
    }
   ],
   "source": [
    "print(\"Probability for word ID 5390 in sense k = 4:\",k_words_with_prob[4][\"5390\"])"
   ]
  },
  {
   "cell_type": "code",
   "execution_count": 199,
   "metadata": {},
   "outputs": [
    {
     "name": "stdout",
     "output_type": "stream",
     "text": [
      "sense 0\n",
      "69419 0.069\n",
      "45980 0.018\n",
      "69419 0.069\n",
      "53826 0.017\n",
      "28355 0.088\n",
      "69419 0.069\n",
      "114587 0.042\n",
      "35267 0.035\n",
      "51647 0.035\n",
      "64448 0.023\n",
      "45980 0.018\n",
      "69419 0.069\n",
      "57460 0.056\n",
      "42071 0.041\n",
      "sense 1\n",
      "101982 0.029\n",
      "68539 0.024\n",
      "79223 0.063\n",
      "92927 0.057\n",
      "86112 0.030\n",
      "79223 0.063\n",
      "103085 0.036\n",
      "sense 2\n",
      "62258 0.080\n",
      "58271 0.048\n",
      "nlsj86871 0.041\n",
      "75653 0.031\n",
      "82758 0.024\n",
      "64586 0.052\n",
      "nlsj59923 0.030\n",
      "70105 0.026\n",
      "82758 0.024\n",
      "101851 0.039\n",
      "sense 3\n",
      "93388 0.017\n",
      "70958 0.024\n",
      "49589 0.021\n",
      "16132 0.016\n",
      "102000 0.035\n",
      "7182 0.029\n",
      "70958 0.024\n",
      "49589 0.021\n",
      "22209 0.018\n",
      "93388 0.017\n",
      "102000 0.035\n",
      "70495 0.035\n",
      "83174 0.021\n",
      "106676 0.019\n",
      "22209 0.018\n",
      "93388 0.017\n",
      "sense 4\n",
      "nlsj5634 0.039\n",
      "69419 0.027\n",
      "19641 0.020\n",
      "69419 0.027\n",
      "104421 0.027\n",
      "71308 0.022\n",
      "5390 0.019\n",
      "61925 0.037\n",
      "69419 0.027\n",
      "104421 0.027\n",
      "91085 0.024\n",
      "71308 0.022\n",
      "19641 0.020\n",
      "69419 0.027\n",
      "115748 0.021\n"
     ]
    }
   ],
   "source": [
    "for key in k_words_with_prob.keys():\n",
    "    print(\"sense\",key)\n",
    "    for i in range(0,number_of_s):\n",
    "        for second_key in k_words_with_prob[key].keys():\n",
    "            if second_key in dict_of_words[expert_senses[i]]:\n",
    "                print(second_key,k_words_with_prob[key][second_key])\n",
    "                \n",
    "# Here we get all the senses and for each sense we do a matching between the k words and s words and get the probability\n",
    "# For some reason the first word for each sense arrives several times"
   ]
  },
  {
   "cell_type": "markdown",
   "metadata": {},
   "source": [
    "## Q3: How well does the model assign the right words to a given sense of the target word?"
   ]
  },
  {
   "cell_type": "code",
   "execution_count": null,
   "metadata": {},
   "outputs": [],
   "source": [
    "# For each k, we use the words given by the expert as unquestionable truth.\n",
    "# Judging the model's assignment of words to a given sense becomes a question of precision and recall.\n",
    "\n",
    "# precision is all correct w weighted by their respective probabilities / all w weighted by their probabilities\n",
    "for each k:\n",
    "    for each w:\n",
    "        if w in expert_list:\n",
    "            w_weight = p*1\n",
    "            numerator += w_weight\n",
    "        w_weight = p*1\n",
    "        denominator += w_weight\n",
    "    precision = numerator/denominator\n",
    "    \n",
    "# recall is all correct w weighted by their respective probabilities / all w assigned to the sense by the expert\n",
    "for each k:\n",
    "    for each w:\n",
    "        if w in expert_list:\n",
    "            w_weight = p*1\n",
    "            numerator += w_weight\n",
    "    denominator = len(expert_list)\n",
    "    recall = numerator/denominator\n",
    "    \n",
    "# f-score can be used as well\n",
    "\n",
    "for each k:\n",
    "    f_score = 2 * precision * recall / (precision+recall)"
   ]
  }
 ],
 "metadata": {
  "kernelspec": {
   "display_name": "Python 3",
   "language": "python",
   "name": "python3"
  },
  "language_info": {
   "codemirror_mode": {
    "name": "ipython",
    "version": 3
   },
   "file_extension": ".py",
   "mimetype": "text/x-python",
   "name": "python",
   "nbconvert_exporter": "python",
   "pygments_lexer": "ipython3",
   "version": "3.6.4"
  }
 },
 "nbformat": 4,
 "nbformat_minor": 2
}

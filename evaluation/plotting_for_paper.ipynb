{
 "cells": [
  {
   "cell_type": "code",
   "execution_count": 2,
   "metadata": {},
   "outputs": [],
   "source": [
    "# This is code to plot figures for the paper"
   ]
  },
  {
   "cell_type": "code",
   "execution_count": 3,
   "metadata": {},
   "outputs": [],
   "source": [
    "# Change here below with the PERIOD_RELATIVE data for the expert output\n",
    "\n",
    "valeurs = {0: [0.075, 0.4, 0.525, 0.0], \n",
    "           1: [0.5714285714285714, 0.42857142857142855, 0.0, 0.0], \n",
    "           2: [0.25, 0.75, 0.0, 0.0], \n",
    "           3: [0.4, 0.4, 0.2, 0.0], \n",
    "           4: [0.25, 0.75, 0.0, 0.0], \n",
    "           5: [0.28, 0.3, 0.42, 0.0], \n",
    "           6: [0.15730337078651685, 0.5056179775280899, 0.0898876404494382, 0.24719101123595505], \n",
    "           7: [0.0, 0.5, 0.5, 0.0]}"
   ]
  },
  {
   "cell_type": "code",
   "execution_count": 14,
   "metadata": {},
   "outputs": [
    {
     "name": "stdout",
     "output_type": "stream",
     "text": [
      "0 [0.075, 0.4, 0.525, 0.0]\n",
      "lenght of vals 4\n",
      "1 [0.5714285714285714, 0.42857142857142855, 0.0, 0.0]\n",
      "lenght of vals 4\n",
      "2 [0.25, 0.75, 0.0, 0.0]\n",
      "lenght of vals 4\n",
      "3 [0.4, 0.4, 0.2, 0.0]\n",
      "lenght of vals 4\n",
      "4 [0.25, 0.75, 0.0, 0.0]\n",
      "lenght of vals 4\n",
      "5 [0.28, 0.3, 0.42, 0.0]\n",
      "lenght of vals 4\n",
      "6 [0.15730337078651685, 0.5056179775280899, 0.0898876404494382, 0.24719101123595505]\n",
      "lenght of vals 4\n",
      "7 [0.0, 0.5, 0.5, 0.0]\n",
      "lenght of vals 4\n"
     ]
    },
    {
     "data": {
      "image/png": "[encoded data removed]",
      "text/plain": [
       "<Figure size 720x504 with 1 Axes>"
      ]
     },
     "metadata": {},
     "output_type": "display_data"
    }
   ],
   "source": [
    "import numpy as np\n",
    "import matplotlib.pyplot as plt\n",
    "from matplotlib import colors as mcolors\n",
    "import matplotlib\n",
    "matplotlib.rcParams['figure.figsize'] = [10,7]\n",
    "\n",
    "\n",
    "colors = dict(mcolors.BASE_COLORS, **mcolors.CSS4_COLORS)\n",
    "couleurs = list()\n",
    "\n",
    "for couleur in colors.keys():\n",
    "    couleurs.append(couleur)\n",
    "\n",
    "\n",
    "\n",
    "colours = ['teal','wheat','aquamarine','navajowhite','darksalmon','cadetblue','coral','limeturquoise','magenta','peru']\n",
    "#colours = ['b','g','r','c','m','y','k','w']\n",
    "colors = couleurs\n",
    "colors = colours\n",
    "\n",
    "for key,vals in valeurs.items():\n",
    "    print(key,vals)\n",
    "    print(\"lenght of vals\",len(vals))\n",
    "    \n",
    "    \n",
    "    \n",
    "    for i in range(0,len(vals)):        \n",
    "        if i == 0:\n",
    "            #print(\"TOTAL HITS FOR SENSE\",expert_senses[i],sense_date_amount[expert_senses[i],key])\n",
    "            previous = 0\n",
    "            #print(i)\n",
    "            #print(colours[i],\"height=\",vals[i])\n",
    "            #plt.bar(x=key, height=vals[i],bottom=previous,color=colours[i])\n",
    "            #plt.bar(x=key, height=vals[i],bottom=previous)\n",
    "            plt.bar(x=key, height=vals[i],bottom=previous,color=colors[i])\n",
    "            \n",
    "        else:         \n",
    "            #print(\"TOTAL HITS FOR SENSE\",expert_senses[i],sense_date_amount[expert_senses[i],key])\n",
    "            previous = vals[i-1] + previous\n",
    "            #print(\"i\",i,\"key=period\",key)\n",
    "            #print(colours[i],\"height=\",vals[i])\n",
    "            #print(vals[i])\n",
    "            #plt.bar(x=key, height=vals[i],bottom=previous,color=colours[i])\n",
    "            #plt.bar(x=key, height=vals[i],bottom=previous)\n",
    "            plt.bar(x=key, height=vals[i],bottom=previous,color=colors[i])\n",
    "            \n",
    "plt.xticks(range(len(valeurs)), valeurs.keys())\n",
    "\n",
    "\n",
    "#plt.figure(figsize=(20,10))\n",
    "image = plt.gcf()\n",
    "#image.savefig(dir_out+\"/\"+target_id+param_name+\"genre_\"+genre+\"_i\"+str(iterations)+\"_k\"+str(num_top)+\"_time_interval\"+str(time_interval)+\"_expert.png\")\n",
    "plt.show()"
   ]
  },
  {
   "cell_type": "code",
   "execution_count": 15,
   "metadata": {},
   "outputs": [
    {
     "name": "stdout",
     "output_type": "stream",
     "text": [
      "README.md\r\n",
      "copora_genre_ids.ipynb\r\n",
      "\u001b[1m\u001b[36mevaluation_input\u001b[m\u001b[m\r\n",
      "\u001b[1m\u001b[36mevaluation_output\u001b[m\u001b[m\r\n",
      "evaluation_script.ipynb\r\n",
      "evaluation_script.py\r\n",
      "evaluation_script_genre-naive_with_NOT.py\r\n",
      "new_output_to_single_output.ipynb\r\n",
      "new_output_to_single_output.py\r\n",
      "plotting_for_paper.ipynb\r\n"
     ]
    }
   ],
   "source": [
    "!ls ."
   ]
  },
  {
   "cell_type": "code",
   "execution_count": null,
   "metadata": {},
   "outputs": [],
   "source": []
  },
  {
   "cell_type": "code",
   "execution_count": null,
   "metadata": {},
   "outputs": [],
   "source": []
  },
  {
   "cell_type": "code",
   "execution_count": null,
   "metadata": {},
   "outputs": [],
   "source": []
  }
 ],
 "metadata": {
  "kernelspec": {
   "display_name": "Python 3",
   "language": "python",
   "name": "python3"
  },
  "language_info": {
   "codemirror_mode": {
    "name": "ipython",
    "version": 3
   },
   "file_extension": ".py",
   "mimetype": "text/x-python",
   "name": "python",
   "nbconvert_exporter": "python",
   "pygments_lexer": "ipython3",
   "version": "3.6.5"
  }
 },
 "nbformat": 4,
 "nbformat_minor": 2
}

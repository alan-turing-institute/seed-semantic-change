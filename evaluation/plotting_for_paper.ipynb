{
 "cells": [
  {
   "cell_type": "code",
   "execution_count": 2,
   "metadata": {},
   "outputs": [],
   "source": [
    "# This is code to plot figures for the paper"
   ]
  },
  {
   "cell_type": "code",
   "execution_count": 93,
   "metadata": {},
   "outputs": [],
   "source": [
    "\n",
    "import numpy as np\n",
    "import matplotlib.pyplot as plt\n",
    "from matplotlib import colors as mcolors\n",
    "import matplotlib\n",
    "matplotlib.rcParams['figure.figsize'] = [10,7]\n",
    "import matplotlib.patches as mpatches\n",
    "\n",
    "\n",
    "\n",
    "\n"
   ]
  },
  {
   "cell_type": "code",
   "execution_count": 97,
   "metadata": {},
   "outputs": [
    {
     "name": "stdout",
     "output_type": "stream",
     "text": [
      "0 [0.7240925093187781, 0.2367032038801966, 0.03920428680102529]\n",
      "lenght of vals 3\n",
      "1 [0.6939519060053851, 0.26351478483253216, 0.04253330916208262]\n",
      "lenght of vals 3\n",
      "2 [0.7101994786712985, 0.24261797365210586, 0.04718254767659566]\n",
      "lenght of vals 3\n",
      "3 [0.6984808704748579, 0.2605765486364, 0.04094258088874221]\n",
      "lenght of vals 3\n",
      "4 [0.7240986460934651, 0.22892337471057025, 0.04697797919596454]\n",
      "lenght of vals 3\n",
      "5 [0.7013102564900904, 0.25263089888836526, 0.04605884462154444]\n",
      "lenght of vals 3\n",
      "6 [0.6852774135427685, 0.26405434926159144, 0.050668237195639954]\n",
      "lenght of vals 3\n",
      "7 [0.6243142656283787, 0.32495194742435346, 0.050733786947267816]\n",
      "lenght of vals 3\n",
      "8 [0.6372315072564246, 0.316665233849118, 0.046103258894457294]\n",
      "lenght of vals 3\n",
      "9 [0.6411774147268822, 0.3058241476685505, 0.05299843760456735]\n",
      "lenght of vals 3\n",
      "10 [0.5714993206760371, 0.3598754301301137, 0.06862524919384912]\n",
      "lenght of vals 3\n",
      "11 [0.5542938826572088, 0.34519319743178145, 0.10051291991100972]\n",
      "lenght of vals 3\n",
      "12 [0.6116844661579998, 0.311044743942562, 0.07727078989943828]\n",
      "lenght of vals 3\n"
     ]
    },
    {
     "data": {
      "image/png": "[encoded data removed]",
      "text/plain": [
       "<Figure size 720x504 with 1 Axes>"
      ]
     },
     "metadata": {},
     "output_type": "display_data"
    }
   ],
   "source": [
    "# Change here below with the PERIOD_RELATIVE_MODEL data for the model output\n",
    "\n",
    "valeurs = {0: [0.7240925093187781, 0.2367032038801966, 0.03920428680102529], 1: [0.6939519060053851, 0.26351478483253216, 0.04253330916208262], 2: [0.7101994786712985, 0.24261797365210586, 0.04718254767659566], 3: [0.6984808704748579, 0.2605765486364, 0.04094258088874221], 4: [0.7240986460934651, 0.22892337471057025, 0.04697797919596454], 5: [0.7013102564900904, 0.25263089888836526, 0.04605884462154444], 6: [0.6852774135427685, 0.26405434926159144, 0.050668237195639954], 7: [0.6243142656283787, 0.32495194742435346, 0.050733786947267816], 8: [0.6372315072564246, 0.316665233849118, 0.046103258894457294], 9: [0.6411774147268822, 0.3058241476685505, 0.05299843760456735], 10: [0.5714993206760371, 0.3598754301301137, 0.06862524919384912], 11: [0.5542938826572088, 0.34519319743178145, 0.10051291991100972], 12: [0.6116844661579998, 0.311044743942562, 0.07727078989943828]}\n",
    "\n",
    "colors = dict(mcolors.BASE_COLORS, **mcolors.CSS4_COLORS)\n",
    "couleurs = list()\n",
    "\n",
    "for couleur in colors.keys():\n",
    "    couleurs.append(couleur)\n",
    "\n",
    "\n",
    "\n",
    "colours = ['teal','coral','steelblue','darksalmon','cadetblue','coral','limeturquoise','magenta','peru']\n",
    "#colours = ['b','g','r','c','m','y','k','w']\n",
    "colors = couleurs\n",
    "colors = colours\n",
    "\n",
    "for key,vals in valeurs.items():\n",
    "    print(key,vals)\n",
    "    print(\"lenght of vals\",len(vals))\n",
    "    \n",
    "    \n",
    "    \n",
    "    for i in range(0,len(vals)):        \n",
    "        if i == 0:\n",
    "            #print(\"TOTAL HITS FOR SENSE\",expert_senses[i],sense_date_amount[expert_senses[i],key])\n",
    "            previous = 0\n",
    "            #print(i)\n",
    "            #print(colours[i],\"height=\",vals[i])\n",
    "            #plt.bar(x=key, height=vals[i],bottom=previous,color=colours[i])\n",
    "            #plt.bar(x=key, height=vals[i],bottom=previous)\n",
    "            plt.bar(x=key, height=vals[i],bottom=previous,color=colors[i])\n",
    "            \n",
    "        else:         \n",
    "            #print(\"TOTAL HITS FOR SENSE\",expert_senses[i],sense_date_amount[expert_senses[i],key])\n",
    "            previous = vals[i-1] + previous\n",
    "            #print(\"i\",i,\"key=period\",key)\n",
    "            #print(colours[i],\"height=\",vals[i])\n",
    "            #print(vals[i])\n",
    "            #plt.bar(x=key, height=vals[i],bottom=previous,color=colours[i])\n",
    "            #plt.bar(x=key, height=vals[i],bottom=previous)\n",
    "            plt.bar(x=key, height=vals[i],bottom=previous,color=colors[i])\n",
    "            \n",
    "plt.xticks(range(len(valeurs)), valeurs.keys())\n",
    "plt.ylabel('Sense distribution',fontsize=18)\n",
    "#plt.legend(a)\n",
    "plt.title('Model sense distribution for mus\\n',fontsize=20)\n",
    "plt.xlabel('Time',fontsize=16)\n",
    "\n",
    "\n",
    "first_patch = mpatches.Patch(color='teal', label='NA')\n",
    "second_patch = mpatches.Patch(color='coral', label='concrete')\n",
    "third_patch = mpatches.Patch(color='steelblue', label='musical')\n",
    "fourth_patch = mpatches.Patch(color='thistle', label='abstract')\n",
    "\n",
    "\n",
    "plt.legend(handles=[first_patch, second_patch, third_patch])\n",
    "\n",
    "\n",
    "params = {'legend.fontsize': 14,\n",
    "          }\n",
    "plt.rcParams.update(params)\n",
    "\n",
    "#plt.figure(figsize=(20,10))\n",
    "image = plt.gcf()\n",
    "image.savefig(\"harmonia_MODEL_paper.png\")\n",
    "plt.show()"
   ]
  },
  {
   "cell_type": "code",
   "execution_count": 98,
   "metadata": {},
   "outputs": [
    {
     "name": "stdout",
     "output_type": "stream",
     "text": [
      "EXPERT_paper.png\r\n",
      "MODEL_paper.png\r\n",
      "README.md\r\n",
      "copora_genre_ids.ipynb\r\n",
      "\u001b[1m\u001b[36mevaluation_input\u001b[m\u001b[m\r\n",
      "\u001b[1m\u001b[36mevaluation_output\u001b[m\u001b[m\r\n",
      "evaluation_script.ipynb\r\n",
      "evaluation_script.py\r\n",
      "evaluation_script_genre-naive_with_NOT.py\r\n",
      "gimp_plot_paper.png\r\n",
      "gimp_plot_paper.xcf\r\n",
      "gimp_plot_paper_2.png\r\n",
      "gimp_plot_paper_3.png\r\n",
      "harmonia_EXPERT_paper.png\r\n",
      "harmonia_MODEL_paper.png\r\n",
      "mus_EXPERT_paper.png\r\n",
      "mus_MODEL_paper.png\r\n",
      "new_output_to_single_output.ipynb\r\n",
      "new_output_to_single_output.py\r\n",
      "plotting_for_paper.ipynb\r\n"
     ]
    }
   ],
   "source": [
    "!ls ."
   ]
  },
  {
   "cell_type": "code",
   "execution_count": null,
   "metadata": {},
   "outputs": [],
   "source": []
  },
  {
   "cell_type": "code",
   "execution_count": null,
   "metadata": {},
   "outputs": [],
   "source": [
    "\n",
    "\n"
   ]
  },
  {
   "cell_type": "code",
   "execution_count": 99,
   "metadata": {},
   "outputs": [
    {
     "name": "stdout",
     "output_type": "stream",
     "text": [
      "0 [0.3333333333333333, 0.6666666666666666, 0.0, 0.0]\n",
      "lenght of vals 4\n",
      "1 [0, 0, 0, 0]\n",
      "lenght of vals 4\n",
      "2 [0, 0, 0, 0]\n",
      "lenght of vals 4\n",
      "3 [0.2222222222222222, 0.2222222222222222, 0.5555555555555556, 0.0]\n",
      "lenght of vals 4\n",
      "4 [0.27586206896551724, 0.006896551724137931, 0.5379310344827586, 0.1793103448275862]\n",
      "lenght of vals 4\n",
      "5 [1.0, 0.0, 0.0, 0.0]\n",
      "lenght of vals 4\n",
      "6 [0.6666666666666666, 0.3333333333333333, 0.0, 0.0]\n",
      "lenght of vals 4\n",
      "7 [0.33035714285714285, 0.017857142857142856, 0.0625, 0.5892857142857143]\n",
      "lenght of vals 4\n",
      "8 [0.37623762376237624, 0.0594059405940594, 0.2376237623762376, 0.32673267326732675]\n",
      "lenght of vals 4\n",
      "9 [0.3333333333333333, 0.12280701754385964, 0.3157894736842105, 0.22807017543859648]\n",
      "lenght of vals 4\n",
      "10 [0.18032786885245902, 0.04918032786885246, 0.4918032786885246, 0.2786885245901639]\n",
      "lenght of vals 4\n",
      "11 [0.5714285714285714, 0.09523809523809523, 0.19047619047619047, 0.14285714285714285]\n",
      "lenght of vals 4\n",
      "12 [0.56, 0.12, 0.24, 0.08]\n",
      "lenght of vals 4\n"
     ]
    },
    {
     "data": {
      "image/png": "[encoded data removed]",
      "text/plain": [
       "<Figure size 720x504 with 1 Axes>"
      ]
     },
     "metadata": {},
     "output_type": "display_data"
    }
   ],
   "source": [
    "# Change here below with the PERIOD_RELATIVE data for the expert output\n",
    "\n",
    "valeurs = {0: [0.3333333333333333, 0.6666666666666666, 0.0, 0.0], 1: [0, 0, 0, 0], 2: [0, 0, 0, 0], 3: [0.2222222222222222, 0.2222222222222222, 0.5555555555555556, 0.0], 4: [0.27586206896551724, 0.006896551724137931, 0.5379310344827586, 0.1793103448275862], 5: [1.0, 0.0, 0.0, 0.0], 6: [0.6666666666666666, 0.3333333333333333, 0.0, 0.0], 7: [0.33035714285714285, 0.017857142857142856, 0.0625, 0.5892857142857143], 8: [0.37623762376237624, 0.0594059405940594, 0.2376237623762376, 0.32673267326732675], 9: [0.3333333333333333, 0.12280701754385964, 0.3157894736842105, 0.22807017543859648], 10: [0.18032786885245902, 0.04918032786885246, 0.4918032786885246, 0.2786885245901639], 11: [0.5714285714285714, 0.09523809523809523, 0.19047619047619047, 0.14285714285714285], 12: [0.56, 0.12, 0.24, 0.08]}\n",
    "\n",
    "\n",
    "\n",
    "colors = dict(mcolors.BASE_COLORS, **mcolors.CSS4_COLORS)\n",
    "couleurs = list()\n",
    "\n",
    "for couleur in colors.keys():\n",
    "    couleurs.append(couleur)\n",
    "\n",
    "\n",
    "\n",
    "colours = ['teal','coral','steelblue','thistle','cadetblue','coral','limeturquoise','magenta','peru']\n",
    "#colours = ['b','g','r','c','m','y','k','w']\n",
    "colors = couleurs\n",
    "colors = colours\n",
    "\n",
    "for key,vals in valeurs.items():\n",
    "    print(key,vals)\n",
    "    print(\"lenght of vals\",len(vals))\n",
    "    \n",
    "    \n",
    "    \n",
    "    for i in range(0,len(vals)):        \n",
    "        if i == 0:\n",
    "            #print(\"TOTAL HITS FOR SENSE\",expert_senses[i],sense_date_amount[expert_senses[i],key])\n",
    "            previous = 0\n",
    "            #print(i)\n",
    "            #print(colours[i],\"height=\",vals[i])\n",
    "            #plt.bar(x=key, height=vals[i],bottom=previous,color=colours[i])\n",
    "            #plt.bar(x=key, height=vals[i],bottom=previous)\n",
    "            plt.bar(x=key, height=vals[i],bottom=previous,color=colors[i])\n",
    "            \n",
    "        else:         \n",
    "            #print(\"TOTAL HITS FOR SENSE\",expert_senses[i],sense_date_amount[expert_senses[i],key])\n",
    "            previous = vals[i-1] + previous\n",
    "            #print(\"i\",i,\"key=period\",key)\n",
    "            #print(colours[i],\"height=\",vals[i])\n",
    "            #print(vals[i])\n",
    "            #plt.bar(x=key, height=vals[i],bottom=previous,color=colours[i])\n",
    "            #plt.bar(x=key, height=vals[i],bottom=previous)\n",
    "            plt.bar(x=key, height=vals[i],bottom=previous,color=colors[i])\n",
    "            \n",
    "plt.xticks(range(len(valeurs)), valeurs.keys())\n",
    "plt.ylabel('Sense distribution',fontsize=18)\n",
    "plt.title('Expert sense distribution for mus\\n',fontsize=20)\n",
    "plt.xlabel('Time',fontsize=18)\n",
    "\n",
    "\n",
    "first_patch = mpatches.Patch(color='teal', label='NA')\n",
    "second_patch = mpatches.Patch(color='coral', label='concrete')\n",
    "third_patch = mpatches.Patch(color='steelblue', label='musical')\n",
    "fourth_patch = mpatches.Patch(color='thistle', label='abstract')\n",
    "\n",
    "\n",
    "plt.legend(handles=[first_patch, second_patch, third_patch, fourth_patch])\n",
    "\n",
    "params = {'legend.fontsize': 14,\n",
    "          }\n",
    "plt.rcParams.update(params)\n",
    "#plt.figure(figsize=(20,10))\n",
    "image = plt.gcf()\n",
    "image.savefig(\"harmonia_EXPERT_paper.png\")\n",
    "plt.show()"
   ]
  },
  {
   "cell_type": "code",
   "execution_count": null,
   "metadata": {},
   "outputs": [],
   "source": []
  },
  {
   "cell_type": "code",
   "execution_count": null,
   "metadata": {},
   "outputs": [],
   "source": []
  },
  {
   "cell_type": "code",
   "execution_count": null,
   "metadata": {},
   "outputs": [],
   "source": []
  },
  {
   "cell_type": "code",
   "execution_count": null,
   "metadata": {},
   "outputs": [],
   "source": []
  },
  {
   "cell_type": "code",
   "execution_count": null,
   "metadata": {},
   "outputs": [],
   "source": []
  },
  {
   "cell_type": "code",
   "execution_count": null,
   "metadata": {},
   "outputs": [],
   "source": []
  }
 ],
 "metadata": {
  "kernelspec": {
   "display_name": "Python 3",
   "language": "python",
   "name": "python3"
  },
  "language_info": {
   "codemirror_mode": {
    "name": "ipython",
    "version": 3
   },
   "file_extension": ".py",
   "mimetype": "text/x-python",
   "name": "python",
   "nbconvert_exporter": "python",
   "pygments_lexer": "ipython3",
   "version": "3.6.5"
  }
 },
 "nbformat": 4,
 "nbformat_minor": 2
}

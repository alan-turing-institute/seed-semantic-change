{
 "cells": [
  {
   "cell_type": "markdown",
   "metadata": {},
   "source": [
    "## Below is a cell for the imports and legends\n",
    "\n",
    "- \"genre\" is a variable if we're doing this for a specific genre\n",
    "- the \"xxx_patch\" are the variables that are used in the plot for the senses, they match the colours used below\n",
    "- \"colours\" is a list of colours. They should be in the same order as the senses (xxx_patch)\n",
    "- \"target\" is the target word."
   ]
  },
  {
   "cell_type": "code",
   "execution_count": 10,
   "metadata": {},
   "outputs": [],
   "source": [
    "import numpy as np\n",
    "import matplotlib.pyplot as plt\n",
    "from matplotlib import colors as mcolors\n",
    "import matplotlib\n",
    "matplotlib.rcParams['figure.figsize'] = [10,7]\n",
    "import matplotlib.patches as mpatches\n",
    "\n",
    "## Put the genre here, for filesaving purposes among other things\n",
    "#genre = \"Essays\"\n",
    "\n",
    "\n",
    "## change this for target word\n",
    "target = \"kosmos\"\n",
    "\n",
    "## change the senses here, in the right order\n",
    "first_patch = mpatches.Patch(color='teal', label='NA')\n",
    "second_patch = mpatches.Patch(color='coral', label='decoration')\n",
    "third_patch = mpatches.Patch(color='steelblue', label='world')\n",
    "#fourth_patch = mpatches.Patch(color='thistle', label='order')\n",
    "\n",
    "colours = ['teal','coral','steelblue','thistle','cadetblue','coral','limeturquoise','magenta','peru']\n",
    "colors = colours"
   ]
  },
  {
   "cell_type": "markdown",
   "metadata": {},
   "source": [
    "## Below is a cell for the model output dictionary.\n",
    "Whether the Ks are put together to match senses or not is to be determined, obviously, and that can't be done automatically."
   ]
  },
  {
   "cell_type": "code",
   "execution_count": 7,
   "metadata": {},
   "outputs": [],
   "source": [
    "valeurs = {0: [0.3278144721984883, 0.43745901775747875, 0.23472651004403292], 1: [0.27825531366370365, 0.4531244666537048, 0.2686202196825916], 2: [0.3339014932668157, 0.4735770031399867, 0.19252150359319772], 3: [0.2936615362378043, 0.4912663569649547, 0.21507210679724117], 4: [0.2978057579234666, 0.501912017620725, 0.20028222445580843], 5: [0.29692670717764075, 0.4844141415466549, 0.21865915127570432], 6: [0.2738135680822632, 0.473849205918955, 0.2523372259987817], 7: [0.2539936801976612, 0.5626616281567094, 0.1833446916456294], 8: [0.23075751723729288, 0.6330569611101612, 0.13618552165254577]}"
   ]
  },
  {
   "cell_type": "markdown",
   "metadata": {},
   "source": [
    "## Below is a cell with the actual plotting. \n",
    "Change the line with the xxx_patches to match the number of senses"
   ]
  },
  {
   "cell_type": "code",
   "execution_count": 11,
   "metadata": {},
   "outputs": [
    {
     "name": "stdout",
     "output_type": "stream",
     "text": [
      "0 [0.3278144721984883, 0.43745901775747875, 0.23472651004403292]\n",
      "lenght of vals 3\n",
      "1 [0.27825531366370365, 0.4531244666537048, 0.2686202196825916]\n",
      "lenght of vals 3\n",
      "2 [0.3339014932668157, 0.4735770031399867, 0.19252150359319772]\n",
      "lenght of vals 3\n",
      "3 [0.2936615362378043, 0.4912663569649547, 0.21507210679724117]\n",
      "lenght of vals 3\n",
      "4 [0.2978057579234666, 0.501912017620725, 0.20028222445580843]\n",
      "lenght of vals 3\n",
      "5 [0.29692670717764075, 0.4844141415466549, 0.21865915127570432]\n",
      "lenght of vals 3\n",
      "6 [0.2738135680822632, 0.473849205918955, 0.2523372259987817]\n",
      "lenght of vals 3\n",
      "7 [0.2539936801976612, 0.5626616281567094, 0.1833446916456294]\n",
      "lenght of vals 3\n",
      "8 [0.23075751723729288, 0.6330569611101612, 0.13618552165254577]\n",
      "lenght of vals 3\n"
     ]
    },
    {
     "data": {
      "image/png": "[encoded data removed]",
      "text/plain": [
       "<Figure size 720x504 with 1 Axes>"
      ]
     },
     "metadata": {},
     "output_type": "display_data"
    }
   ],
   "source": [
    "for key,vals in valeurs.items():\n",
    "    print(key,vals)\n",
    "    print(\"lenght of vals\",len(vals))\n",
    "\n",
    "    for i in range(0,len(vals)):        \n",
    "        if i == 0:\n",
    "            previous = 0\n",
    "\n",
    "            plt.bar(x=key, height=vals[i],bottom=previous,color=colors[i])\n",
    "            \n",
    "        else:         \n",
    "            previous = vals[i-1] + previous\n",
    "\n",
    "            plt.bar(x=key, height=vals[i],bottom=previous,color=colors[i])\n",
    "            \n",
    "plt.xticks(range(len(valeurs)), valeurs.keys())\n",
    "plt.ylabel('Sense distribution',fontsize=18)\n",
    "legende = 'Model sense distribution for ' + target + '\\n'\n",
    "plt.title(legende,fontsize=20)\n",
    "plt.xlabel('Time',fontsize=16)\n",
    "\n",
    "\n",
    "## CHANGE HERE IF MORE OR LESS THAN THREE SENSES\n",
    "#plt.legend(handles=[first_patch, second_patch, third_patch, fourth_patch])\n",
    "plt.legend(handles=[first_patch, second_patch, third_patch])\n",
    "\n",
    "\n",
    "\n",
    "params = {'legend.fontsize': 14,\n",
    "          }\n",
    "plt.rcParams.update(params)\n",
    "\n",
    "#plt.figure(figsize=(20,10))\n",
    "image = plt.gcf()\n",
    "\n",
    "if \"genre\" in globals():\n",
    "    image.savefig(target+\"_model_\"+genre+\".png\")\n",
    "    \n",
    "else: \n",
    "    image.savefig(target+\"_model_TESTING.png\")\n",
    "    \n",
    "plt.show()"
   ]
  },
  {
   "cell_type": "code",
   "execution_count": null,
   "metadata": {},
   "outputs": [],
   "source": []
  },
  {
   "cell_type": "code",
   "execution_count": null,
   "metadata": {},
   "outputs": [],
   "source": []
  },
  {
   "cell_type": "code",
   "execution_count": null,
   "metadata": {},
   "outputs": [],
   "source": []
  }
 ],
 "metadata": {
  "kernelspec": {
   "display_name": "Python 3",
   "language": "python",
   "name": "python3"
  },
  "language_info": {
   "codemirror_mode": {
    "name": "ipython",
    "version": 3
   },
   "file_extension": ".py",
   "mimetype": "text/x-python",
   "name": "python",
   "nbconvert_exporter": "python",
   "pygments_lexer": "ipython3",
   "version": "3.6.5"
  }
 },
 "nbformat": 4,
 "nbformat_minor": 2
}
